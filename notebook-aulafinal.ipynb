{
 "cells": [
  {
   "cell_type": "markdown",
   "metadata": {},
   "source": [
    "# Como compartilhar meus notebooks?\n",
    "\n",
    "Git e GitHub : com essa parceria você pode compartilhar com o mundo os seus notebooks.\n",
    "\n",
    "1. <b>Criar uma conta</b>\n",
    "2. <b>Criar um repositório</b>\n",
    "3. <b>Instalar o Git</b>\n",
    "4. <b>Sincronizar o local com remoto</b>\n",
    "5. Subir o seu projeto\n",
    "\n",
    "links úteis\n",
    "\n",
    "- git: https://www.git-scm.com/downloads\n",
    "- github: https://github.com/\n",
    "\n"
   ]
  },
  {
   "cell_type": "markdown",
   "metadata": {},
   "source": [
    "# Comandos Básicos do Git"
   ]
  },
  {
   "cell_type": "markdown",
   "metadata": {},
   "source": [
    "1. <b>git init</b>: inicializa o git\n",
    "2. <b>git status </b>: o que esta acontecendo?\n",
    "2. <b>git add . </b>: adiciona arquivos\n",
    "3. <b> git commit -m \"salvando arquivos\"</b>: salvar como"
   ]
  }
 ],
 "metadata": {
  "language_info": {
   "name": "python"
  }
 },
 "nbformat": 4,
 "nbformat_minor": 2
}
